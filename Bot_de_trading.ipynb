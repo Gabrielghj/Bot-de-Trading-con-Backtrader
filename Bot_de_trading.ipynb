{
  "nbformat": 4,
  "nbformat_minor": 0,
  "metadata": {
    "colab": {
      "provenance": [],
      "authorship_tag": "ABX9TyMms6pG+8v3Ok/pd8EzLLDu",
      "include_colab_link": true
    },
    "kernelspec": {
      "name": "python3",
      "display_name": "Python 3"
    },
    "language_info": {
      "name": "python"
    }
  },
  "cells": [
    {
      "cell_type": "markdown",
      "metadata": {
        "id": "view-in-github",
        "colab_type": "text"
      },
      "source": [
        "<a href=\"https://colab.research.google.com/github/Gabrielghj/Bot-de-Trading-con-Backtrader/blob/main/Bot_de_trading.ipynb\" target=\"_parent\"><img src=\"https://colab.research.google.com/assets/colab-badge.svg\" alt=\"Open In Colab\"/></a>"
      ]
    },
    {
      "cell_type": "markdown",
      "source": [
        "Importación de librerías"
      ],
      "metadata": {
        "id": "qO6JGmZSJeDN"
      }
    },
    {
      "cell_type": "code",
      "execution_count": null,
      "metadata": {
        "id": "rAnAhcorJVL9"
      },
      "outputs": [],
      "source": [
        "import backtrader as bt\n",
        "import pandas as pd\n",
        "\n",
        "# Backtrader: Librería para backtesting (simulación de estrategias).\n",
        "# Pandas: Se usa para leer y manipular los datos históricos de BTC."
      ]
    },
    {
      "cell_type": "markdown",
      "source": [
        "Cargar datos históricos"
      ],
      "metadata": {
        "id": "XJvN7TOnJv5l"
      }
    },
    {
      "cell_type": "code",
      "source": [
        "data = pd.read_csv('btc_data.csv', index_col='Date', parse_dates=True)\n",
        "\n",
        "# Cargamos los datos desde un archivo CSV llamado \"btc_data.csv\".\n",
        "# La columna \"Date\" se usa como índice con formato de fecha."
      ],
      "metadata": {
        "id": "QF7uqR8jJrBd"
      },
      "execution_count": null,
      "outputs": []
    },
    {
      "cell_type": "markdown",
      "source": [
        "Crear un Data Feed para Backtrader"
      ],
      "metadata": {
        "id": "cI7smcRtKAzF"
      }
    },
    {
      "cell_type": "code",
      "source": [
        "data_feed = bt.feeds.PandasData(dataname=data)\n",
        "\n",
        "# Convertimos los datos de Pandas a un formato que Backtrader pueda manejar (Data Feed)."
      ],
      "metadata": {
        "id": "tIPHw_bQKEZN"
      },
      "execution_count": null,
      "outputs": []
    },
    {
      "cell_type": "markdown",
      "source": [
        "Crear el \"Cerebro\" de Backtrader"
      ],
      "metadata": {
        "id": "N8HvgofAKfcl"
      }
    },
    {
      "cell_type": "code",
      "source": [
        "cerebro = bt.Cerebro()\n",
        "cerebro.adddata(data_feed)\n",
        "\n",
        "# Backtrader usa un objeto llamado Cerebro como el motor que maneja la estrategia, las operaciones y los gráficos.\n",
        "# adddata(data_feed) carga los datos históricos en el cerebro.\n"
      ],
      "metadata": {
        "id": "Ht9gJJOmKjhV"
      },
      "execution_count": null,
      "outputs": []
    },
    {
      "cell_type": "markdown",
      "source": [
        "Configurar el capital inicial"
      ],
      "metadata": {
        "id": "ialCdPfxKtUF"
      }
    },
    {
      "cell_type": "code",
      "source": [
        "cerebro.broker.setcash(10000.0)\n",
        "\n",
        "# Se establece un capital inicial de $10,000 para la simulación."
      ],
      "metadata": {
        "id": "7FiikDkMK0Xd"
      },
      "execution_count": null,
      "outputs": []
    },
    {
      "cell_type": "markdown",
      "source": [
        "Configurar el tamaño de la posición"
      ],
      "metadata": {
        "id": "4sNY1lgcK9I9"
      }
    },
    {
      "cell_type": "code",
      "source": [
        "cerebro.addsizer(bt.sizers.FixedSize, stake=1)\n",
        "\n",
        "# Se define que cada operación va a comprar o vender 1 unidad de BTC."
      ],
      "metadata": {
        "id": "A8BsXYoEK_cN"
      },
      "execution_count": null,
      "outputs": []
    },
    {
      "cell_type": "markdown",
      "source": [
        "Configurar la comisión por operación"
      ],
      "metadata": {
        "id": "WtNY1FZAN318"
      }
    },
    {
      "cell_type": "code",
      "source": [
        "cerebro.broker.setcommission(commission=0.001)\n",
        "\n",
        "# Se aplica una comisión del 0.1% por operación (típica en exchanges como Binance o Coinbase).\n"
      ],
      "metadata": {
        "id": "Hn4OBt8AN4n8"
      },
      "execution_count": null,
      "outputs": []
    },
    {
      "cell_type": "markdown",
      "source": [
        "Calcular el RSI"
      ],
      "metadata": {
        "id": "0W4z8AqKOFWV"
      }
    },
    {
      "cell_type": "code",
      "source": [
        "rsi_period = 14\n",
        "rsi = bt.indicators.RSI_SMA(data_feed.close, period=rsi_period)\n",
        "\n",
        "# Calculamos el RSI (Relative Strength Index) con un período de 14 días.\n",
        "# RSI indica si el mercado está sobrecomprado (>70) o sobrevendido (<30)."
      ],
      "metadata": {
        "id": "sD-tITQgOCuM"
      },
      "execution_count": null,
      "outputs": []
    },
    {
      "cell_type": "markdown",
      "source": [
        "Iniciar variables para rastrear la posición"
      ],
      "metadata": {
        "id": "k4IPohQeOQlM"
      }
    },
    {
      "cell_type": "code",
      "source": [
        "position_open = False\n",
        "\n",
        "# position_open almacena si actualmente tenemos BTC o no.\n",
        "# True → Tenemos BTC.\n",
        "# False → No tenemos BTC."
      ],
      "metadata": {
        "id": "_w9akwY0ORfs"
      },
      "execution_count": null,
      "outputs": []
    },
    {
      "cell_type": "markdown",
      "source": [
        " Aplicar la estrategia de compra y venta"
      ],
      "metadata": {
        "id": "G349j_f4Of8M"
      }
    },
    {
      "cell_type": "code",
      "source": [
        "for i in range(len(data)):\n",
        "    current_rsi = rsi[0]\n",
        "    current_price = data['Close'].iloc[i]\n",
        "\n",
        "# Se recorre cada fila del dataset (cada día o periodo).\n",
        "# Se obtiene el valor actual del RSI y el precio de cierre."
      ],
      "metadata": {
        "id": "AIVmk3iiOg_s"
      },
      "execution_count": null,
      "outputs": []
    },
    {
      "cell_type": "markdown",
      "source": [
        "Condición de compra"
      ],
      "metadata": {
        "id": "0Q0QtXs3OpTE"
      }
    },
    {
      "cell_type": "code",
      "source": [
        "if not position_open and current_rsi < 30:\n",
        "    cerebro.broker.buy(price=current_price)\n",
        "    position_open = True\n",
        "    print(f\"Comprado a {current_price} en la fecha {data.index[i]}\")\n",
        "\n",
        "# Si no tenemos BTC y el RSI está por debajo de 30, compramos BTC.\n",
        "# Se marca position_open = True para indicar que tenemos BTC."
      ],
      "metadata": {
        "id": "BbxUGNU3OsFc"
      },
      "execution_count": null,
      "outputs": []
    },
    {
      "cell_type": "markdown",
      "source": [
        "Condición de venta"
      ],
      "metadata": {
        "id": "LhEjHNGTOyxE"
      }
    },
    {
      "cell_type": "code",
      "source": [
        "elif position_open and current_rsi > 70:\n",
        "    cerebro.broker.sell(price=current_price)\n",
        "    position_open = False\n",
        "    print(f\"Vendido a {current_price} en la fecha {data.index[i]}\")\n",
        "\n",
        "# Si ya tenemos BTC y el RSI supera 70, vendemos BTC.\n",
        "# Se marca position_open = False porque ya no tenemos BTC."
      ],
      "metadata": {
        "id": "Pm0Y9Ui3O1ik"
      },
      "execution_count": null,
      "outputs": []
    },
    {
      "cell_type": "markdown",
      "source": [
        "Mostrar el valor final del portafolio"
      ],
      "metadata": {
        "id": "o06gcD4iO7nc"
      }
    },
    {
      "cell_type": "code",
      "source": [
        "print(f'Valor final del portafolio: {cerebro.broker.getvalue()}')\n",
        "\n",
        "# Imprime el saldo final después de todas las operaciones."
      ],
      "metadata": {
        "id": "4gBFyur_PA1c"
      },
      "execution_count": null,
      "outputs": []
    },
    {
      "cell_type": "markdown",
      "source": [
        "Graficar los resultados"
      ],
      "metadata": {
        "id": "DRvvPW1XPGlU"
      }
    },
    {
      "cell_type": "code",
      "source": [
        "cerebro.plot()\n",
        "\n",
        "# Genera un gráfico con los precios y operaciones realizadas."
      ],
      "metadata": {
        "id": "x1Yr_g_7PKdk"
      },
      "execution_count": null,
      "outputs": []
    }
  ]
}